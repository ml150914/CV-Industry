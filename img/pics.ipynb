{
 "cells": [
  {
   "cell_type": "code",
   "execution_count": 3,
   "metadata": {},
   "outputs": [
    {
     "name": "stdout",
     "output_type": "stream",
     "text": [
      "Immagini ridimensionate salvate nella cartella: resized_images\n"
     ]
    }
   ],
   "source": [
    "from PIL import Image\n",
    "import os\n",
    "\n",
    "# Percorsi delle tue immagini originali\n",
    "image_paths = [\n",
    "    \"AirLab.jpg\",\n",
    "    \"EasyResNet.png\",\n",
    "    \"tree.png\"\n",
    "]\n",
    "\n",
    "# Dimensione target\n",
    "target_size = (200, 150)  # larghezza x altezza\n",
    "output_dir = \"resized_images\"\n",
    "os.makedirs(output_dir, exist_ok=True)\n",
    "\n",
    "for path in image_paths:\n",
    "    img = Image.open(path)\n",
    "    img.thumbnail(target_size, Image.LANCZOS)  # Mantieni proporzioni\n",
    "\n",
    "    # Crea nuova immagine con sfondo bianco\n",
    "    new_img = Image.new(\"RGB\", target_size, (255, 255, 255))\n",
    "    paste_position = (\n",
    "        (target_size[0] - img.size[0]) // 2,\n",
    "        (target_size[1] - img.size[1]) // 2\n",
    "    )\n",
    "    new_img.paste(img, paste_position)\n",
    "\n",
    "    # Salva immagine\n",
    "    filename = os.path.basename(path)\n",
    "    new_img.save(os.path.join(output_dir, filename))\n",
    "\n",
    "print(f\"Immagini ridimensionate salvate nella cartella: {output_dir}\")\n"
   ]
  }
 ],
 "metadata": {
  "kernelspec": {
   "display_name": "base",
   "language": "python",
   "name": "python3"
  },
  "language_info": {
   "codemirror_mode": {
    "name": "ipython",
    "version": 3
   },
   "file_extension": ".py",
   "mimetype": "text/x-python",
   "name": "python",
   "nbconvert_exporter": "python",
   "pygments_lexer": "ipython3",
   "version": "3.12.8"
  },
  "orig_nbformat": 4
 },
 "nbformat": 4,
 "nbformat_minor": 2
}
